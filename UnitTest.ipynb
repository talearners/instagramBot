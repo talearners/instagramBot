{
 "cells": [
  {
   "cell_type": "code",
   "execution_count": 15,
   "metadata": {},
   "outputs": [],
   "source": [
    "from selenium.webdriver import Firefox\n",
    "from selenium.webdriver.support import expected_conditions as exp\n",
    "from selenium.webdriver.support.ui import WebDriverWait\n",
    "from selenium.webdriver.common.by import By\n",
    "from json import dump , load\n",
    "from os.path import exists\n",
    "from time import sleep\n"
   ]
  },
  {
   "cell_type": "code",
   "execution_count": 16,
   "metadata": {},
   "outputs": [
    {
     "name": "stderr",
     "output_type": "stream",
     "text": [
      "\n"
     ]
    }
   ],
   "source": [
    "driver = Firefox(executable_path=\"./Driver/geckodriver.exe\")"
   ]
  },
  {
   "cell_type": "code",
   "execution_count": 17,
   "metadata": {},
   "outputs": [
    {
     "name": "stdout",
     "output_type": "stream",
     "text": [
      "Cookies Added....\n"
     ]
    }
   ],
   "source": [
    "from json import load\n",
    "\n",
    "driver.get('https://instagram.com')\n",
    "\n",
    "with open(\"./Cookies/ig.json\",'r') as f:\n",
    "    for i in load(f):\n",
    "        driver.add_cookie(i)\n",
    "    print(\"Cookies Added....\")\n",
    "    driver.refresh()"
   ]
  },
  {
   "cell_type": "code",
   "execution_count": null,
   "metadata": {},
   "outputs": [],
   "source": [
    "try:\n",
    "    popup = WebDriverWait(driver=driver,timeout=60).until(\n",
    "        exp.presence_of_element_located((By.XPATH,\"/html/body/div[6]/div/div/div/div[3]/button[2]\"))\n",
    "    )\n",
    "    if popup.text == 'Not Now':\n",
    "        popup.click()\n",
    "        print(\"[+] Notification Popup Click Not Now \")\n",
    "\n",
    "except:\n",
    "    print(\"[!] Element Not Found !\")"
   ]
  },
  {
   "cell_type": "code",
   "execution_count": null,
   "metadata": {},
   "outputs": [],
   "source": [
    "article = driver.find_elements_by_tag_name('article')\n",
    "print(\"Collect Post Sessions\")"
   ]
  },
  {
   "cell_type": "code",
   "execution_count": null,
   "metadata": {},
   "outputs": [],
   "source": [
    "section = [i.find_element_by_tag_name(\"section\") for i in article]\n",
    "print(\"[+] Capture Like Comment Repost Share Button Area !\")"
   ]
  },
  {
   "cell_type": "code",
   "execution_count": null,
   "metadata": {},
   "outputs": [],
   "source": [
    "button = [btn.find_elements_by_tag_name('button') for btn in section]\n",
    "driver.execute_script(\"\"\"scrollBy({top:Math.floor(Math.random() * 100)+ 200,behavior:'smooth'})\"\"\")\n",
    "print(\"[+] Finding Like Button elements\")"
   ]
  },
  {
   "cell_type": "code",
   "execution_count": null,
   "metadata": {},
   "outputs": [],
   "source": [
    "for btn in button:\n",
    "    svg = btn[0].find_element_by_tag_name('svg').get_attribute('aria-label')\n",
    "    if svg != \"Like\":\n",
    "        print('pass')\n",
    "        continue\n",
    "    sleep(2)\n",
    "    driver.execute_script(\"\"\"scrollBy({top:Math.floor(Math.random() * 100)+ 900,behavior:'smooth'})\"\"\")\n",
    "    sleep(3)\n",
    "    btn[0].click()\n",
    "    print('Liked On Post')"
   ]
  },
  {
   "cell_type": "code",
   "execution_count": 14,
   "metadata": {},
   "outputs": [],
   "source": [
    "driver.refresh()"
   ]
  }
 ],
 "metadata": {
  "interpreter": {
   "hash": "580d47f0eb1c24b6f7b786682df74c79ad37a8c9ebfd5fc60dab213a19e338a0"
  },
  "kernelspec": {
   "display_name": "Python 3.10.2 64-bit ('instagrambot-D4vvNtXU': pipenv)",
   "language": "python",
   "name": "python3"
  },
  "language_info": {
   "codemirror_mode": {
    "name": "ipython",
    "version": 3
   },
   "file_extension": ".py",
   "mimetype": "text/x-python",
   "name": "python",
   "nbconvert_exporter": "python",
   "pygments_lexer": "ipython3",
   "version": "3.10.2"
  },
  "orig_nbformat": 4
 },
 "nbformat": 4,
 "nbformat_minor": 2
}
